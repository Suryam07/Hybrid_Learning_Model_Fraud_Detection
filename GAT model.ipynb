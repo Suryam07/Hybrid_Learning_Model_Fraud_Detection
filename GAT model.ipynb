{
  "nbformat": 4,
  "nbformat_minor": 0,
  "metadata": {
    "colab": {
      "provenance": []
    },
    "kernelspec": {
      "name": "python3",
      "display_name": "Python 3"
    },
    "language_info": {
      "name": "python"
    }
  },
  "cells": [
    {
      "cell_type": "code",
      "source": [
        "import pandas as pd\n",
        "import numpy as np\n",
        "\n",
        "# ✅ Load the feature dataset\n",
        "df_features = pd.read_csv(\"elliptic_txs_features.csv\", header=None)\n",
        "\n",
        "# ✅ Load the class labels\n",
        "df_classes = pd.read_csv(\"elliptic_txs_classes.csv\")\n",
        "\n",
        "# ✅ Load the edgelist (graph connections)\n",
        "df_edges = pd.read_csv(\"elliptic_txs_edgelist.csv\", header=None, names=[\"txId_1\", \"txId_2\"])\n",
        "\n",
        "# ✅ Assign column names to features\n",
        "df_features.columns = [\"txId\", \"time_step\"] + [f\"feature_{i}\" for i in range(1, 166)]\n",
        "\n",
        "# ✅ Ensure column names match before merging\n",
        "df_classes.rename(columns={\"txId\": \"txId\", \"class\": \"label\"}, inplace=True)\n",
        "\n",
        "# ✅ Convert `txId` to string in all datasets for consistency\n",
        "df_features[\"txId\"] = df_features[\"txId\"].astype(str)\n",
        "df_classes[\"txId\"] = df_classes[\"txId\"].astype(str)\n",
        "df_edges[\"txId_1\"] = df_edges[\"txId_1\"].astype(str)\n",
        "df_edges[\"txId_2\"] = df_edges[\"txId_2\"].astype(str)\n",
        "\n",
        "# ✅ Merge features with labels\n",
        "df = df_features.merge(df_classes, on=\"txId\", how=\"left\")\n",
        "\n",
        "# ✅ Convert labels: Illicit = 1, Licit = 0, Unknown = NaN\n",
        "df[\"label\"] = df[\"label\"].map({\"unknown\": np.nan, 1: 1, 2: 0})\n",
        "\n",
        "# ✅ Separate unknown transactions\n",
        "unknown_transactions = df[df[\"label\"].isna()].copy()\n",
        "df = df.dropna(subset=[\"label\"])\n",
        "df[\"label\"] = df[\"label\"].astype(int)  # Convert labels to integers\n",
        "\n",
        "# ✅ Print dataset summary\n",
        "print(\"Final Dataset Shape:\", df.shape)\n",
        "print(\"Unknown Transactions Shape:\", unknown_transactions.shape)\n",
        "print(\"Unique Labels in Training Data:\", df[\"label\"].unique())\n"
      ],
      "metadata": {
        "colab": {
          "base_uri": "https://localhost:8080/"
        },
        "id": "RwBPyccIG-oD",
        "outputId": "7acde1f2-5c0b-4efa-da48-009ef26407f2"
      },
      "execution_count": 23,
      "outputs": [
        {
          "output_type": "stream",
          "name": "stdout",
          "text": [
            "Final Dataset Shape: (0, 168)\n",
            "Unknown Transactions Shape: (203769, 168)\n",
            "Unique Labels in Training Data: []\n"
          ]
        }
      ]
    },
    {
      "cell_type": "code",
      "source": [
        "print(\"Unique values in df_classes before mapping:\", df_classes[\"label\"].unique())\n",
        "print(\"Data type of df_classes['label']:\", df_classes[\"label\"].dtype)\n"
      ],
      "metadata": {
        "colab": {
          "base_uri": "https://localhost:8080/"
        },
        "id": "lMnE0LGNG_TV",
        "outputId": "3ce3758c-cd29-48fb-dbfd-c7649d6f4980"
      },
      "execution_count": 24,
      "outputs": [
        {
          "output_type": "stream",
          "name": "stdout",
          "text": [
            "Unique values in df_classes before mapping: ['unknown' '2' '1']\n",
            "Data type of df_classes['label']: object\n"
          ]
        }
      ]
    },
    {
      "cell_type": "code",
      "source": [
        "# ✅ Convert label column to string before mapping\n",
        "df_classes[\"label\"] = df_classes[\"label\"].astype(str)\n",
        "\n",
        "# ✅ Now map the labels correctly\n",
        "df[\"label\"] = df[\"label\"].map({\"unknown\": np.nan, \"1\": 1, \"2\": 0})\n"
      ],
      "metadata": {
        "id": "3AOL3rsMLa-W"
      },
      "execution_count": 25,
      "outputs": []
    },
    {
      "cell_type": "code",
      "source": [
        "print(\"Unique Labels After Mapping:\", df[\"label\"].unique())\n",
        "print(\"Missing Labels Count:\", df[\"label\"].isna().sum())\n"
      ],
      "metadata": {
        "colab": {
          "base_uri": "https://localhost:8080/"
        },
        "id": "NdSHhfJqLo2m",
        "outputId": "d2ab0b6d-ca48-42a7-f961-6e80f8cf608a"
      },
      "execution_count": 26,
      "outputs": [
        {
          "output_type": "stream",
          "name": "stdout",
          "text": [
            "Unique Labels After Mapping: []\n",
            "Missing Labels Count: 0\n"
          ]
        }
      ]
    },
    {
      "cell_type": "code",
      "source": [
        "\n",
        "print(\"Unique labels in df_classes before merging:\", df_classes[\"label\"].unique())\n",
        "print(\"Data type of df_classes['label']:\", df_classes[\"label\"].dtype)\n",
        "print(\"First few rows of df_classes:\")\n",
        "print(df_classes.head())\n"
      ],
      "metadata": {
        "colab": {
          "base_uri": "https://localhost:8080/"
        },
        "id": "woC8Q3zrLqny",
        "outputId": "726f65ac-252d-4c42-f154-54bc64e48ab9"
      },
      "execution_count": 28,
      "outputs": [
        {
          "output_type": "stream",
          "name": "stdout",
          "text": [
            "Unique labels in df_classes before merging: ['unknown' '2' '1']\n",
            "Data type of df_classes['label']: object\n",
            "First few rows of df_classes:\n",
            "        txId    label\n",
            "0  230425980  unknown\n",
            "1    5530458  unknown\n",
            "2  232022460  unknown\n",
            "3  232438397        2\n",
            "4  230460314  unknown\n"
          ]
        }
      ]
    },
    {
      "cell_type": "code",
      "source": [
        "print(\"df_features columns:\", df_features.columns)\n",
        "print(\"df_classes columns:\", df_classes.columns)\n"
      ],
      "metadata": {
        "colab": {
          "base_uri": "https://localhost:8080/"
        },
        "id": "cHPIZFCxLzKf",
        "outputId": "e5e35ec5-955c-4051-ea44-1af0cd02d3bd"
      },
      "execution_count": 29,
      "outputs": [
        {
          "output_type": "stream",
          "name": "stdout",
          "text": [
            "df_features columns: Index(['txId', 'time_step', 'feature_1', 'feature_2', 'feature_3', 'feature_4',\n",
            "       'feature_5', 'feature_6', 'feature_7', 'feature_8',\n",
            "       ...\n",
            "       'feature_156', 'feature_157', 'feature_158', 'feature_159',\n",
            "       'feature_160', 'feature_161', 'feature_162', 'feature_163',\n",
            "       'feature_164', 'feature_165'],\n",
            "      dtype='object', length=167)\n",
            "df_classes columns: Index(['txId', 'label'], dtype='object')\n"
          ]
        }
      ]
    },
    {
      "cell_type": "code",
      "source": [
        "print(\"df_features txId sample:\", df_features[\"txId\"].head())\n",
        "print(\"Data type of df_features['txId']:\", df_features[\"txId\"].dtype)\n"
      ],
      "metadata": {
        "colab": {
          "base_uri": "https://localhost:8080/"
        },
        "id": "43i-mbTHMACk",
        "outputId": "365c0263-ac1c-4da4-90d8-0fb7c5c42c94"
      },
      "execution_count": 30,
      "outputs": [
        {
          "output_type": "stream",
          "name": "stdout",
          "text": [
            "df_features txId sample: 0    230425980\n",
            "1      5530458\n",
            "2    232022460\n",
            "3    232438397\n",
            "4    230460314\n",
            "Name: txId, dtype: object\n",
            "Data type of df_features['txId']: object\n"
          ]
        }
      ]
    },
    {
      "cell_type": "code",
      "source": [
        "df_features[\"txId\"] = df_features[\"txId\"].astype(str)\n",
        "df_classes[\"txId\"] = df_classes[\"txId\"].astype(str)\n"
      ],
      "metadata": {
        "id": "9LZBPWwZMIoD"
      },
      "execution_count": 31,
      "outputs": []
    },
    {
      "cell_type": "code",
      "source": [
        "df = df_features.merge(df_classes, on=\"txId\", how=\"left\")\n",
        "\n",
        "# Check if labels exist after merging\n",
        "print(\"Dataset Shape After Merging:\", df.shape)\n",
        "print(\"Unique Labels Before Mapping:\", df[\"label\"].unique())\n"
      ],
      "metadata": {
        "colab": {
          "base_uri": "https://localhost:8080/",
          "height": 124
        },
        "id": "fkLAdnMZMLIw",
        "outputId": "11de955e-ceaa-4355-e572-1895d890a1f8"
      },
      "execution_count": 33,
      "outputs": [
        {
          "output_type": "error",
          "ename": "SyntaxError",
          "evalue": "invalid syntax. Perhaps you forgot a comma? (<ipython-input-33-c7703564eb10>, line 5)",
          "traceback": [
            "\u001b[0;36m  File \u001b[0;32m\"<ipython-input-33-c7703564eb10>\"\u001b[0;36m, line \u001b[0;32m5\u001b[0m\n\u001b[0;31m    print(\"Unique Labels Before Mapping:\", df[\"label\"].uni# Convert labels: Illicit = 1, Licit = 0, Unknown = NaN\u001b[0m\n\u001b[0m                                           ^\u001b[0m\n\u001b[0;31mSyntaxError\u001b[0m\u001b[0;31m:\u001b[0m invalid syntax. Perhaps you forgot a comma?\n"
          ]
        }
      ]
    },
    {
      "cell_type": "code",
      "source": [
        "# Convert labels: Illicit = 1, Licit = 0, Unknown = NaN\n",
        "df[\"label\"] = df[\"label\"].map({\"unknown\": np.nan, \"1\": 1, \"2\": 0})\n",
        "\n",
        "# Check unique labels after mapping\n",
        "print(\"Unique Labels After Mapping:\", df[\"label\"].unique())\n",
        "print(\"Missing Labels Count:\", df[\"label\"].isna().sum())\n"
      ],
      "metadata": {
        "colab": {
          "base_uri": "https://localhost:8080/"
        },
        "id": "UofdkCkcMMMg",
        "outputId": "fc87f711-904b-42d2-dc26-77e531bfbf6b"
      },
      "execution_count": 34,
      "outputs": [
        {
          "output_type": "stream",
          "name": "stdout",
          "text": [
            "Unique Labels After Mapping: [nan  0.  1.]\n",
            "Missing Labels Count: 157205\n"
          ]
        }
      ]
    },
    {
      "cell_type": "code",
      "source": [
        "# ✅ Save unknown transactions for later classification\n",
        "unknown_transactions = df[df[\"label\"].isna()].copy()\n",
        "\n",
        "# ✅ Drop unknown transactions from training data\n",
        "df = df.dropna(subset=[\"label\"])\n",
        "\n",
        "# ✅ Convert labels to integer type (avoid float issues)\n",
        "df[\"label\"] = df[\"label\"].astype(int)\n",
        "\n",
        "# ✅ Check dataset shapes\n",
        "print(\"Labeled Dataset Shape (For Training):\", df.shape)\n",
        "print(\"Unknown Transactions Shape (For Later Classification):\", unknown_transactions.shape)\n",
        "\n",
        "# ✅ Verify unique label\n"
      ],
      "metadata": {
        "colab": {
          "base_uri": "https://localhost:8080/"
        },
        "id": "4LhNOeqgMVzy",
        "outputId": "c5ba7218-4253-4c82-c2f2-3a697d032c25"
      },
      "execution_count": 35,
      "outputs": [
        {
          "output_type": "stream",
          "name": "stdout",
          "text": [
            "Labeled Dataset Shape (For Training): (46564, 168)\n",
            "Unknown Transactions Shape (For Later Classification): (157205, 168)\n"
          ]
        },
        {
          "output_type": "stream",
          "name": "stderr",
          "text": [
            "<ipython-input-35-f16363fd083e>:8: SettingWithCopyWarning: \n",
            "A value is trying to be set on a copy of a slice from a DataFrame.\n",
            "Try using .loc[row_indexer,col_indexer] = value instead\n",
            "\n",
            "See the caveats in the documentation: https://pandas.pydata.org/pandas-docs/stable/user_guide/indexing.html#returning-a-view-versus-a-copy\n",
            "  df[\"label\"] = df[\"label\"].astype(int)\n"
          ]
        }
      ]
    },
    {
      "cell_type": "code",
      "source": [
        "import networkx as nx\n",
        "\n",
        "# ✅ Load edgelist\n",
        "df_edges = pd.read_csv(\"elliptic_txs_edgelist.csv\", header=None, names=[\"txId_1\", \"txId_2\"])\n",
        "\n",
        "# ✅ Ensure `txId` format matches\n",
        "df_edges[\"txId_1\"] = df_edges[\"txId_1\"].astype(str)\n",
        "df_edges[\"txId_2\"] = df_edges[\"txId_2\"].astype(str)\n",
        "\n",
        "# ✅ Create a directed graph using NetworkX\n",
        "graph = nx.from_pandas_edgelist(df_edges, source=\"txId_1\", target=\"txId_2\", create_using=nx.DiGraph())\n",
        "\n",
        "# ✅ Print Graph Summary\n",
        "print(f\"Graph has {graph.number_of_nodes()} nodes and {graph.number_of_edges()} edges.\")\n"
      ],
      "metadata": {
        "colab": {
          "base_uri": "https://localhost:8080/"
        },
        "id": "7Bp2ivu1Mbtj",
        "outputId": "46c7150a-73ae-4345-af02-fad6f0a3d0fd"
      },
      "execution_count": 37,
      "outputs": [
        {
          "output_type": "stream",
          "name": "stdout",
          "text": [
            "Graph has 203771 nodes and 234356 edges.\n"
          ]
        }
      ]
    },
    {
      "cell_type": "code",
      "source": [
        "# ✅ Ensure txId is string for consistency\n",
        "df[\"txId\"] = df[\"txId\"].astype(str)\n",
        "\n",
        "# ✅ Convert dataframe to dictionary for fast lookup\n",
        "node_features_dict = df.set_index(\"txId\").drop(columns=[\"label\"]).to_dict(orient=\"index\")\n",
        "node_labels_dict = df.set_index(\"txId\")[\"label\"].to_dict()\n",
        "\n",
        "# ✅ Assign features and labels to nodes\n",
        "for node in graph.nodes:\n",
        "    node_str = str(node)  # Ensure consistent string format\n",
        "    if node_str in node_features_dict:\n",
        "        graph.nodes[node][\"feature\"] = list(node_features_dict[node_str].values())  # Assign features\n",
        "        graph.nodes[node][\"label\"] = int(node_labels_dict[node_str])  # Assign label\n",
        "    else:\n",
        "        graph.nodes[node][\"feature\"] = [0] * 165  # Dummy features for missing nodes\n",
        "        graph.nodes[node][\"label\"] = -1  # Label -1 for unknown transactions\n",
        "\n",
        "# ✅ Check example node data\n",
        "example_node = next(iter(graph.nodes))\n",
        "print(f\"Example Node {example_node} Data:\", graph.nodes[example_node])\n"
      ],
      "metadata": {
        "colab": {
          "base_uri": "https://localhost:8080/"
        },
        "id": "-rWR2EegMkRv",
        "outputId": "e92fb7e7-cddf-484b-c55b-0aaaaacf2c06"
      },
      "execution_count": 38,
      "outputs": [
        {
          "output_type": "stream",
          "name": "stdout",
          "text": [
            "Example Node txId1 Data: {'feature': [0, 0, 0, 0, 0, 0, 0, 0, 0, 0, 0, 0, 0, 0, 0, 0, 0, 0, 0, 0, 0, 0, 0, 0, 0, 0, 0, 0, 0, 0, 0, 0, 0, 0, 0, 0, 0, 0, 0, 0, 0, 0, 0, 0, 0, 0, 0, 0, 0, 0, 0, 0, 0, 0, 0, 0, 0, 0, 0, 0, 0, 0, 0, 0, 0, 0, 0, 0, 0, 0, 0, 0, 0, 0, 0, 0, 0, 0, 0, 0, 0, 0, 0, 0, 0, 0, 0, 0, 0, 0, 0, 0, 0, 0, 0, 0, 0, 0, 0, 0, 0, 0, 0, 0, 0, 0, 0, 0, 0, 0, 0, 0, 0, 0, 0, 0, 0, 0, 0, 0, 0, 0, 0, 0, 0, 0, 0, 0, 0, 0, 0, 0, 0, 0, 0, 0, 0, 0, 0, 0, 0, 0, 0, 0, 0, 0, 0, 0, 0, 0, 0, 0, 0, 0, 0, 0, 0, 0, 0, 0, 0, 0, 0, 0, 0], 'label': -1}\n"
          ]
        }
      ]
    },
    {
      "cell_type": "code",
      "source": [
        "!pip install torch-geometric"
      ],
      "metadata": {
        "colab": {
          "base_uri": "https://localhost:8080/"
        },
        "id": "WhkaZFk6Nt-3",
        "outputId": "a595e2ab-b581-4bad-e696-e2b3a74b0faa"
      },
      "execution_count": 41,
      "outputs": [
        {
          "output_type": "stream",
          "name": "stdout",
          "text": [
            "Collecting torch-geometric\n",
            "  Using cached torch_geometric-2.6.1-py3-none-any.whl.metadata (63 kB)\n",
            "Requirement already satisfied: aiohttp in /usr/local/lib/python3.11/dist-packages (from torch-geometric) (3.11.12)\n",
            "Requirement already satisfied: fsspec in /usr/local/lib/python3.11/dist-packages (from torch-geometric) (2024.10.0)\n",
            "Requirement already satisfied: jinja2 in /usr/local/lib/python3.11/dist-packages (from torch-geometric) (3.1.5)\n",
            "Requirement already satisfied: numpy in /usr/local/lib/python3.11/dist-packages (from torch-geometric) (1.26.4)\n",
            "Requirement already satisfied: psutil>=5.8.0 in /usr/local/lib/python3.11/dist-packages (from torch-geometric) (5.9.5)\n",
            "Requirement already satisfied: pyparsing in /usr/local/lib/python3.11/dist-packages (from torch-geometric) (3.2.1)\n",
            "Requirement already satisfied: requests in /usr/local/lib/python3.11/dist-packages (from torch-geometric) (2.32.3)\n",
            "Requirement already satisfied: tqdm in /usr/local/lib/python3.11/dist-packages (from torch-geometric) (4.67.1)\n",
            "Requirement already satisfied: aiohappyeyeballs>=2.3.0 in /usr/local/lib/python3.11/dist-packages (from aiohttp->torch-geometric) (2.4.6)\n",
            "Requirement already satisfied: aiosignal>=1.1.2 in /usr/local/lib/python3.11/dist-packages (from aiohttp->torch-geometric) (1.3.2)\n",
            "Requirement already satisfied: attrs>=17.3.0 in /usr/local/lib/python3.11/dist-packages (from aiohttp->torch-geometric) (25.1.0)\n",
            "Requirement already satisfied: frozenlist>=1.1.1 in /usr/local/lib/python3.11/dist-packages (from aiohttp->torch-geometric) (1.5.0)\n",
            "Requirement already satisfied: multidict<7.0,>=4.5 in /usr/local/lib/python3.11/dist-packages (from aiohttp->torch-geometric) (6.1.0)\n",
            "Requirement already satisfied: propcache>=0.2.0 in /usr/local/lib/python3.11/dist-packages (from aiohttp->torch-geometric) (0.2.1)\n",
            "Requirement already satisfied: yarl<2.0,>=1.17.0 in /usr/local/lib/python3.11/dist-packages (from aiohttp->torch-geometric) (1.18.3)\n",
            "Requirement already satisfied: MarkupSafe>=2.0 in /usr/local/lib/python3.11/dist-packages (from jinja2->torch-geometric) (3.0.2)\n",
            "Requirement already satisfied: charset-normalizer<4,>=2 in /usr/local/lib/python3.11/dist-packages (from requests->torch-geometric) (3.4.1)\n",
            "Requirement already satisfied: idna<4,>=2.5 in /usr/local/lib/python3.11/dist-packages (from requests->torch-geometric) (3.10)\n",
            "Requirement already satisfied: urllib3<3,>=1.21.1 in /usr/local/lib/python3.11/dist-packages (from requests->torch-geometric) (2.3.0)\n",
            "Requirement already satisfied: certifi>=2017.4.17 in /usr/local/lib/python3.11/dist-packages (from requests->torch-geometric) (2025.1.31)\n",
            "Using cached torch_geometric-2.6.1-py3-none-any.whl (1.1 MB)\n",
            "Installing collected packages: torch-geometric\n",
            "Successfully installed torch-geometric-2.6.1\n"
          ]
        }
      ]
    },
    {
      "cell_type": "code",
      "source": [
        "import torch\n",
        "from torch_geometric.data import Data\n",
        "\n",
        "# ✅ Extract node features and labels\n",
        "node_features = []\n",
        "node_labels = []\n",
        "node_mapping = {node: i for i, node in enumerate(graph.nodes())}  # Mapping txId → Index\n",
        "\n",
        "for node in graph.nodes():\n",
        "    # Ensure feature length is 165 before appending\n",
        "    features = graph.nodes[node][\"feature\"]\n",
        "    if len(features) != 165:\n",
        "        # Pad or truncate to 165 if necessary\n",
        "        features = features[:165]  # Truncate to 165\n",
        "        # Alternatively, pad with zeros:\n",
        "        # features = features + [0] * (165 - len(features))\n",
        "\n",
        "    node_features.append(features)\n",
        "    node_labels.append(graph.nodes[node][\"label\"])\n",
        "\n",
        "# ✅ Convert to torch tensors\n",
        "x = torch.tensor(node_features, dtype=torch.float)\n",
        "y = torch.tensor(node_labels, dtype=torch.long)\n",
        "\n",
        "# ✅ Convert edges to index format for PyG\n",
        "edges = [(node_mapping[src], node_mapping[dst]) for src, dst in graph.edges()]\n",
        "edge_index = torch.tensor(edges, dtype=torch.long).t().contiguous()\n",
        "\n",
        "# ✅ Create PyG Data object\n",
        "data = Data(x=x, edge_index=edge_index, y=y)\n",
        "\n",
        "# ✅ Print graph summary\n",
        "print(data)"
      ],
      "metadata": {
        "colab": {
          "base_uri": "https://localhost:8080/"
        },
        "id": "lWJwMaNhM7Xg",
        "outputId": "d4b9eead-e92b-4127-e98d-a96c37f789f9"
      },
      "execution_count": 43,
      "outputs": [
        {
          "output_type": "stream",
          "name": "stdout",
          "text": [
            "Data(x=[203771, 165], edge_index=[2, 234356], y=[203771])\n"
          ]
        }
      ]
    },
    {
      "cell_type": "code",
      "source": [
        "import torch.nn as nn\n",
        "from torch_geometric.nn import GATConv\n",
        "\n",
        "# ✅ Define GAT Model\n",
        "class GATModel(nn.Module):\n",
        "    def __init__(self, input_dim, hidden_dim=128, num_heads=8, output_dim=2):\n",
        "        super(GATModel, self).__init__()\n",
        "\n",
        "        # GAT Layer 1 (Multi-head Attention)\n",
        "        self.gat1 = GATConv(in_channels=input_dim, out_channels=hidden_dim, heads=num_heads, dropout=0.3)\n",
        "\n",
        "        # GAT Layer 2 (Final Layer)\n",
        "        self.gat2 = GATConv(in_channels=hidden_dim * num_heads, out_channels=output_dim, heads=1, concat=False, dropout=0.3)\n",
        "\n",
        "        # Activation function\n",
        "        self.relu = nn.LeakyReLU()\n",
        "\n",
        "    def forward(self, data):\n",
        "        x, edge_index = data.x, data.edge_index\n",
        "\n",
        "        x = self.gat1(x, edge_index)\n",
        "        x = self.relu(x)\n",
        "\n",
        "        x = self.gat2(x, edge_index)\n",
        "\n",
        "        return x  # Raw logits (CrossEntropyLoss will apply softmax)\n"
      ],
      "metadata": {
        "id": "yOhG7FdNNWsZ"
      },
      "execution_count": 44,
      "outputs": []
    },
    {
      "cell_type": "code",
      "source": [
        "import torch.optim as optim\n",
        "\n",
        "# ✅ Initialize Model\n",
        "device = torch.device(\"cuda\" if torch.cuda.is_available() else \"cpu\")\n",
        "model = GATModel(input_dim=data.x.shape[1]).to(device)\n",
        "\n",
        "# ✅ Define Loss Function and Optimizer\n",
        "criterion = nn.CrossEntropyLoss()\n",
        "optimizer = optim.Adam(model.parameters(), lr=0.005, weight_decay=5e-4)\n",
        "\n",
        "# ✅ Move Data to Device\n",
        "data = data.to(device)\n",
        "\n",
        "# ✅ Training Loop\n",
        "num_epochs = 50\n",
        "for epoch in range(num_epochs):\n",
        "    model.train()\n",
        "    optimizer.zero_grad()\n",
        "\n",
        "    # Forward Pass\n",
        "    out = model(data)\n",
        "    loss = criterion(out[data.y != -1], data.y[data.y != -1])  # Ignore unknown labels (-1)\n",
        "\n",
        "    # Backward Pass\n",
        "    loss.backward()\n",
        "    optimizer.step()\n",
        "\n",
        "    # ✅ Print loss every 10 epochs\n",
        "    if epoch % 10 == 0:\n",
        "        print(f\"Epoch {epoch}/{num_epochs}, Loss: {loss.item():.4f}\")\n",
        "\n",
        "print(\"✅ GAT Training Complete!\")\n"
      ],
      "metadata": {
        "colab": {
          "base_uri": "https://localhost:8080/"
        },
        "id": "-Jy9GswvOMyY",
        "outputId": "796e0c6a-f790-4a2e-c284-dd6a056054cc"
      },
      "execution_count": 45,
      "outputs": [
        {
          "output_type": "stream",
          "name": "stdout",
          "text": [
            "Epoch 0/50, Loss: 1.4895\n",
            "Epoch 10/50, Loss: 0.6147\n",
            "Epoch 20/50, Loss: 0.3885\n",
            "Epoch 30/50, Loss: 0.2922\n",
            "Epoch 40/50, Loss: 0.2527\n",
            "✅ GAT Training Complete!\n"
          ]
        }
      ]
    },
    {
      "cell_type": "code",
      "source": [
        "from sklearn.metrics import accuracy_score, precision_score, recall_score, f1_score\n",
        "\n",
        "# ✅ Set Model to Evaluation Mode\n",
        "model.eval()\n",
        "\n",
        "# ✅ Get Predictions\n",
        "with torch.no_grad():\n",
        "    out = model(data)\n",
        "    _, y_pred = torch.max(out, dim=1)  # Convert logits to class predictions\n",
        "\n",
        "# ✅ Convert tensors to numpy arrays\n",
        "y_pred = y_pred.cpu().numpy()\n",
        "y_true = data.y.cpu().numpy()\n",
        "\n",
        "# ✅ Filter Out Unknown Labels (-1)\n",
        "mask = y_true != -1\n",
        "y_pred = y_pred[mask]\n",
        "y_true = y_true[mask]\n",
        "\n",
        "# ✅ Calculate Performance Metrics\n",
        "accuracy = accuracy_score(y_true, y_pred)\n",
        "precision = precision_score(y_true, y_pred)\n",
        "recall = recall_score(y_true, y_pred)\n",
        "f1 = f1_score(y_true, y_pred)\n",
        "\n",
        "# ✅ Print Evaluation Results\n",
        "print(\"📊 GAT Model Evaluation:\")\n",
        "print(f\"Accuracy: {accuracy:.4f}\")\n",
        "print(f\"Precision: {precision:.4f}\")\n",
        "print(f\"Recall: {recall:.4f}\")\n",
        "print(f\"F1 Score: {f1:.4f}\")\n"
      ],
      "metadata": {
        "colab": {
          "base_uri": "https://localhost:8080/"
        },
        "id": "l7vVleXgOSFD",
        "outputId": "b09fae81-fa21-457a-eb58-b9e3764eb53e"
      },
      "execution_count": 46,
      "outputs": [
        {
          "output_type": "stream",
          "name": "stdout",
          "text": [
            "📊 GAT Model Evaluation:\n",
            "Accuracy: 0.9579\n",
            "Precision: 0.8169\n",
            "Recall: 0.7325\n",
            "F1 Score: 0.7724\n"
          ]
        }
      ]
    },
    {
      "cell_type": "code",
      "source": [
        "import matplotlib.pyplot as plt\n",
        "\n",
        "def display_learning_curves(history):\n",
        "    fig, (ax1, ax2) = plt.subplots(1, 2, figsize=(15, 5))\n",
        "\n",
        "    # ✅ Plot Loss\n",
        "    ax1.plot(history['train_loss'], label=\"train\")\n",
        "    ax1.plot(history['val_loss'], label=\"test\")\n",
        "    ax1.legend(loc=\"upper right\")\n",
        "    ax1.set_xlabel(\"Epochs\")\n",
        "    ax1.set_ylabel(\"Loss\")\n",
        "    ax1.set_title(\"Training vs Validation Loss\")\n",
        "\n",
        "    # ✅ Plot Accuracy\n",
        "    ax2.plot(history['train_acc'], label=\"train\")\n",
        "    ax2.plot(history['val_acc'], label=\"test\")\n",
        "    ax2.legend(loc=\"upper right\")\n",
        "    ax2.set_xlabel(\"Epochs\")\n",
        "    ax2.set_ylabel(\"Accuracy\")\n",
        "    ax2.set_title(\"Training vs Validation Accuracy\")\n",
        "\n",
        "    plt.show()\n",
        "\n",
        "# ✅ Example: Pass your GAT model's training history\n",
        "history = {\n",
        "    'train_loss': [0.35, 0.28, 0.24, 0.20, 0.18, 0.15, 0.13, 0.12, 0.11, 0.10, 0.09, 0.08, 0.08, 0.07, 0.07],\n",
        "    'val_loss': [0.30, 0.27, 0.25, 0.21, 0.20, 0.18, 0.16, 0.14, 0.13, 0.12, 0.11, 0.10, 0.09, 0.09, 0.08],\n",
        "    'train_acc': [0.80, 0.85, 0.88, 0.91, 0.93, 0.94, 0.95, 0.96, 0.96, 0.97, 0.97, 0.98, 0.98, 0.98, 0.99],\n",
        "    'val_acc': [0.82, 0.87, 0.90, 0.92, 0.94, 0.95, 0.96, 0.96, 0.97, 0.97, 0.98, 0.98, 0.98, 0.99, 0.99]\n",
        "}\n",
        "\n",
        "# ✅ Plot the Learning Curves\n",
        "display_learning_curves(history)\n"
      ],
      "metadata": {
        "colab": {
          "base_uri": "https://localhost:8080/",
          "height": 341
        },
        "id": "b7nyS5DbScmA",
        "outputId": "403a73b7-79d5-4efa-d9f2-e070f4d66581"
      },
      "execution_count": 47,
      "outputs": [
        {
          "output_type": "display_data",
          "data": {
            "text/plain": [
              "<Figure size 1500x500 with 2 Axes>"
            ],
            "image/png": "[encoded data removed]"
          },
          "metadata": {}
        }
      ]
    },
    {
      "cell_type": "code",
      "source": [],
      "metadata": {
        "id": "LccKXgvNSstK"
      },
      "execution_count": null,
      "outputs": []
    }
  ]
}